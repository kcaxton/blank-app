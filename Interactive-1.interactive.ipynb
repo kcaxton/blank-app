{
 "cells": [
  {
   "cell_type": "markdown",
   "id": "7c33c211",
   "metadata": {},
   "source": [
    "No kernel connected"
   ]
  }
 ],
 "metadata": {
  "language_info": {
   "name": "python"
  }
 },
 "nbformat": 4,
 "nbformat_minor": 5
}
